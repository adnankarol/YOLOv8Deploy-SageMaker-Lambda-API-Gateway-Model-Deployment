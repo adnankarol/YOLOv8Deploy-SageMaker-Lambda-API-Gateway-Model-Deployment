{
 "cells": [
  {
   "cell_type": "markdown",
   "metadata": {},
   "source": [
    "# Notebook to Deploy the YOLOv8 Model to a Sagemaker Endpoint"
   ]
  },
  {
   "cell_type": "markdown",
   "metadata": {},
   "source": [
    "## Import Dependencies"
   ]
  },
  {
   "cell_type": "code",
   "execution_count": 1,
   "metadata": {},
   "outputs": [
    {
     "name": "stdout",
     "output_type": "stream",
     "text": [
      "sagemaker.config INFO - Not applying SDK defaults from location: /etc/xdg/sagemaker/config.yaml\n",
      "sagemaker.config INFO - Not applying SDK defaults from location: /home/ec2-user/.config/sagemaker/config.yaml\n"
     ]
    }
   ],
   "source": [
    "import numpy as np\n",
    "from ultralytics import YOLO\n",
    "import os\n",
    "import boto3\n",
    "from sagemaker.pytorch import PyTorchModel\n",
    "from sagemaker.deserializers import JSONDeserializer\n",
    "import subprocess\n",
    "import sagemaker\n",
    "import shutil"
   ]
  },
  {
   "cell_type": "markdown",
   "metadata": {},
   "source": [
    "## Define the parameters"
   ]
  },
  {
   "cell_type": "code",
   "execution_count": 2,
   "metadata": {},
   "outputs": [],
   "source": [
    "# AWS Account Parameters\n",
    "session = boto3.Session()"
   ]
  },
  {
   "cell_type": "code",
   "execution_count": 3,
   "metadata": {},
   "outputs": [],
   "source": [
    "# S3 Parameters: Make sure the bucket exists in you account in S3\n",
    "bucket_name = \"playgrounddatascience\"\n",
    "model_name = 'yolov8l.pt'\n",
    "prefix = \"yolo/model_endpoint\""
   ]
  },
  {
   "cell_type": "code",
   "execution_count": 4,
   "metadata": {},
   "outputs": [],
   "source": [
    "# Sagemaker Parameters\n",
    "sagemaker_execution_role = sagemaker.get_execution_role()\n",
    "INSTANCE_TYPE = 'ml.m5.2xlarge'\n",
    "ENDPOINT_NAME = 'yolo-endpoint'"
   ]
  },
  {
   "cell_type": "markdown",
   "metadata": {},
   "source": [
    "## Download YOLOv8 Model File"
   ]
  },
  {
   "cell_type": "code",
   "execution_count": 5,
   "metadata": {},
   "outputs": [
    {
     "name": "stdout",
     "output_type": "stream",
     "text": [
      "Downloading yolov8l.pt file ...\n",
      "Downloading https://github.com/ultralytics/assets/releases/download/v8.1.0/yolov8l.pt to 'yolov8l.pt'...\n"
     ]
    },
    {
     "name": "stderr",
     "output_type": "stream",
     "text": [
      "100%|██████████| 83.7M/83.7M [00:00<00:00, 213MB/s]\n"
     ]
    },
    {
     "name": "stdout",
     "output_type": "stream",
     "text": [
      "Moved yolov8l.pt file to root of project\n"
     ]
    }
   ],
   "source": [
    "# Check if the file already exists\n",
    "if os.path.isfile(os.path.join(\"../\", model_name)):\n",
    "    print(f'Model file already exists at location: {os.path.join(\"../\", model_name)}')\n",
    "else: \n",
    "    print(f'Downloading {model_name} file ...')\n",
    "    YOLO(model_name)\n",
    "    shutil.move(model_name, os.path.join(\"../\", model_name))\n",
    "    print(f'Moved {model_name} file to root of project')"
   ]
  },
  {
   "cell_type": "code",
   "execution_count": 6,
   "metadata": {},
   "outputs": [
    {
     "name": "stderr",
     "output_type": "stream",
     "text": [
      "tar: Removing leading `../' from member names\n"
     ]
    },
    {
     "name": "stdout",
     "output_type": "stream",
     "text": [
      "Files Compressed Successfully !!!\n",
      "Unwanted File (yolov8l.pt) Removed Successfully !!!\n"
     ]
    }
   ],
   "source": [
    "# Compress the model to be uploaded to S3\n",
    "try:\n",
    "    bashCommand = \"tar -czvf ../model.tar.gz ../code/ ../yolov8l.pt\"\n",
    "    process = subprocess.Popen(bashCommand.split(), stdout=subprocess.PIPE)\n",
    "    output, error = process.communicate()\n",
    "    print(f'Files Compressed Successfully !!!')\n",
    "    os.remove(os.path.join(\"../\", model_name))\n",
    "    print(f'Unwanted File ({model_name}) Removed Successfully !!!')\n",
    "except:\n",
    "    print('Failure in Compressing File !!!')"
   ]
  },
  {
   "cell_type": "markdown",
   "metadata": {},
   "source": [
    "## Upload Model Files to S3"
   ]
  },
  {
   "cell_type": "code",
   "execution_count": 7,
   "metadata": {},
   "outputs": [
    {
     "name": "stdout",
     "output_type": "stream",
     "text": [
      "amplify-suruapp-dev-155600-deployment\n"
     ]
    }
   ],
   "source": [
    "# Test if session is properly created. This will print a list of buckets in your account, if you have permissions\n",
    "s3_client = session.resource('s3')\n",
    "for bucket in s3_client.buckets.all():\n",
    "    print(bucket.name)\n",
    "    break"
   ]
  },
  {
   "cell_type": "code",
   "execution_count": 8,
   "metadata": {},
   "outputs": [
    {
     "name": "stdout",
     "output_type": "stream",
     "text": [
      "Succesfully Uploaded Model Files to S3 at yolo/model_endpoint\n"
     ]
    }
   ],
   "source": [
    "# Upload the compressed file to S3\n",
    "try:\n",
    "    s3_client.meta.client.upload_file('../model.tar.gz', bucket_name, prefix + \"/\" + 'model.tar.gz')\n",
    "    print(f'Succesfully Uploaded Model Files to S3 at {prefix}')\n",
    "except:\n",
    "    print('Failure in Uploading File to S3 !!!')"
   ]
  },
  {
   "cell_type": "markdown",
   "metadata": {},
   "source": [
    "## Create and Deploy the Model on Sagemaker Endpoint"
   ]
  },
  {
   "cell_type": "code",
   "execution_count": 9,
   "metadata": {},
   "outputs": [],
   "source": [
    "model = PyTorchModel(entry_point='inference.py',\n",
    "                     model_data='s3://' + bucket_name  + '/' + prefix + '/model.tar.gz', \n",
    "                     framework_version='1.12', \n",
    "                     py_version='py38',\n",
    "                     role=sagemaker_execution_role,\n",
    "                     env={'TS_MAX_RESPONSE_SIZE':'20000000', 'YOLOV8_MODEL': model_name})"
   ]
  },
  {
   "cell_type": "code",
   "execution_count": 10,
   "metadata": {},
   "outputs": [
    {
     "name": "stdout",
     "output_type": "stream",
     "text": [
      "----!"
     ]
    }
   ],
   "source": [
    "predictor = model.deploy(initial_instance_count=1, \n",
    "                         instance_type=INSTANCE_TYPE,\n",
    "                         deserializer=JSONDeserializer(),\n",
    "                         endpoint_name=ENDPOINT_NAME)"
   ]
  },
  {
   "cell_type": "markdown",
   "metadata": {},
   "source": [
    "## Delete Endpoint and Configuration"
   ]
  },
  {
   "cell_type": "code",
   "execution_count": 11,
   "metadata": {},
   "outputs": [],
   "source": [
    "# set to 1, if you want to delete the sagemaker endpoint and configuration\n",
    "delete_sagemaker_entities = 0"
   ]
  },
  {
   "cell_type": "code",
   "execution_count": 12,
   "metadata": {},
   "outputs": [],
   "source": [
    "if delete_sagemaker_entities:\n",
    "    sm_client = boto3.client(service_name=\"sagemaker\")\n",
    "    response = sm_client.describe_endpoint_config(EndpointConfigName=ENDPOINT_NAME)\n",
    "    endpoint_config_name = response['EndpointConfigName']\n",
    "    try:\n",
    "        sm_client.delete_endpoint(EndpointName=ENDPOINT_NAME)\n",
    "        print(f'Endpoint {ENDPOINT_NAME} deleted successfully !!!')\n",
    "    except:\n",
    "        print(f'ERROR, in deleting Endpoint {ENDPOINT_NAME} !!!')\n",
    "    try:\n",
    "        sm_client.delete_endpoint_config(EndpointConfigName=endpoint_config_name)\n",
    "        print(f'Endpoint {ENDPOINT_NAME} configuration deleted successfully !!!')\n",
    "    except:\n",
    "        print(f'ERROR, in deleting Endpoint {ENDPOINT_NAME} configuration !!!')"
   ]
  },
  {
   "cell_type": "markdown",
   "metadata": {},
   "source": [
    "## Delete Unwated Files and Folders"
   ]
  },
  {
   "cell_type": "code",
   "execution_count": 13,
   "metadata": {},
   "outputs": [],
   "source": [
    "root = \"./\"\n",
    "for path, subdirs, files in os.walk(root):\n",
    "    for name in files:\n",
    "        file_path = os.path.join(path, name)\n",
    "        if \"__pycache__\" in file_path or \".ipynb_checkpoints\" in file_path or \".DS_Store\" in file_path:\n",
    "            os.remove(file_path)"
   ]
  }
 ],
 "metadata": {
  "kernelspec": {
   "display_name": "conda_pytorch_p310",
   "language": "python",
   "name": "conda_pytorch_p310"
  },
  "language_info": {
   "codemirror_mode": {
    "name": "ipython",
    "version": 3
   },
   "file_extension": ".py",
   "mimetype": "text/x-python",
   "name": "python",
   "nbconvert_exporter": "python",
   "pygments_lexer": "ipython3",
   "version": "3.10.13"
  }
 },
 "nbformat": 4,
 "nbformat_minor": 2
}
