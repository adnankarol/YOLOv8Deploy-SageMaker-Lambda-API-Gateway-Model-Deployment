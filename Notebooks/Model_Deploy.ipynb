{
 "cells": [
  {
   "attachments": {},
   "cell_type": "markdown",
   "metadata": {},
   "source": [
    "# Notebook to Deploy the YOLOv8 Model to a Sagemaker Endpoint"
   ]
  },
  {
   "attachments": {},
   "cell_type": "markdown",
   "metadata": {},
   "source": [
    "## Import Dependencies"
   ]
  },
  {
   "cell_type": "code",
   "execution_count": null,
   "metadata": {},
   "outputs": [],
   "source": [
    "import numpy as np\n",
    "from ultralytics import YOLO\n",
    "import os\n",
    "import boto3\n",
    "from sagemaker.pytorch import PyTorchModel\n",
    "from sagemaker.deserializers import JSONDeserializer\n",
    "import subprocess\n",
    "import sagemaker"
   ]
  },
  {
   "attachments": {},
   "cell_type": "markdown",
   "metadata": {},
   "source": [
    "## Define the parameters"
   ]
  },
  {
   "cell_type": "code",
   "execution_count": null,
   "metadata": {},
   "outputs": [],
   "source": [
    "# AWS Account Parameters\n",
    "session = boto3.Session()"
   ]
  },
  {
   "cell_type": "code",
   "execution_count": null,
   "metadata": {},
   "outputs": [],
   "source": [
    "# S3 Parameters: Make sure the bucket exists in you account in S3\n",
    "bucket_name = \"playgrounddatascience\"\n",
    "model_folder = \"model\"\n",
    "model_name = 'yolov8l.pt'\n",
    "prefix = \"yolov8/model_endpoint\""
   ]
  },
  {
   "cell_type": "code",
   "execution_count": null,
   "metadata": {},
   "outputs": [],
   "source": [
    "# Sagemaker Parameters\n",
    "sagemaker_execution_role = sagemaker.get_execution_role()\n",
    "INSTANCE_TYPE = 'ml.m5.2xlarge'\n",
    "ENDPOINT_NAME = 'yolov8-endpoint'"
   ]
  },
  {
   "attachments": {},
   "cell_type": "markdown",
   "metadata": {},
   "source": [
    "## Download YOLOv8 Model File"
   ]
  },
  {
   "cell_type": "code",
   "execution_count": null,
   "metadata": {},
   "outputs": [],
   "source": [
    "# Check if the file already exists\n",
    "if os.path.isfile(os.path.join(model_folder, model_name)):\n",
    "    print(f'Model file already exists at location: {os.path.join(model_folder, model_name)}')\n",
    "else: \n",
    "    print(f'Downloading {model_name} file ...')\n",
    "    YOLO(model_name)"
   ]
  },
  {
   "cell_type": "code",
   "execution_count": null,
   "metadata": {},
   "outputs": [],
   "source": [
    "# Compress the model to be uploaded to S3\n",
    "try:\n",
    "    bashCommand = \"tar -czvf model.tar.gz code/ yolov8l.pt\"\n",
    "    process = subprocess.Popen(bashCommand.split(), stdout=subprocess.PIPE)\n",
    "    output, error = process.communicate()\n",
    "    print(f'Files Compressed Successfully !!!')\n",
    "except:\n",
    "    print('Failure in Compressing File !!!')"
   ]
  },
  {
   "attachments": {},
   "cell_type": "markdown",
   "metadata": {},
   "source": [
    "## Upload Model Files to S3"
   ]
  },
  {
   "cell_type": "code",
   "execution_count": null,
   "metadata": {},
   "outputs": [],
   "source": [
    "# Test if session is properly created. This will print a list of buckets in your account, if you have permissions\n",
    "s3_client = session.resource('s3')\n",
    "for bucket in s3_client.buckets.all():\n",
    "    print(bucket.name)\n",
    "    break"
   ]
  },
  {
   "cell_type": "code",
   "execution_count": null,
   "metadata": {},
   "outputs": [],
   "source": [
    "# Upload the compressed file to S3\n",
    "try:\n",
    "    s3_client.meta.client.upload_file('model.tar.gz', bucket_name, prefix + \"/\" + 'model.tar.gz')\n",
    "    print(f'Succesfully Uploaded Model Files to S3 at {prefix}')\n",
    "except:\n",
    "    print('Failure in Uploading File to S3 !!!')"
   ]
  },
  {
   "attachments": {},
   "cell_type": "markdown",
   "metadata": {},
   "source": [
    "## Create and Deploy the Model on Sagemaker Endpoint"
   ]
  },
  {
   "cell_type": "code",
   "execution_count": null,
   "metadata": {},
   "outputs": [],
   "source": [
    "model = PyTorchModel(entry_point='inference.py',\n",
    "                     model_data='s3://' + bucket_name  + '/' + prefix + '/model.tar.gz', \n",
    "                     framework_version='1.12', \n",
    "                     py_version='py38',\n",
    "                     role=sagemaker_execution_role,\n",
    "                     env={'TS_MAX_RESPONSE_SIZE':'20000000', 'YOLOV8_MODEL': model_name})"
   ]
  },
  {
   "cell_type": "code",
   "execution_count": null,
   "metadata": {},
   "outputs": [],
   "source": [
    "predictor = model.deploy(initial_instance_count=1, \n",
    "                         instance_type=INSTANCE_TYPE,\n",
    "                         deserializer=JSONDeserializer(),\n",
    "                         endpoint_name=ENDPOINT_NAME)"
   ]
  },
  {
   "attachments": {},
   "cell_type": "markdown",
   "metadata": {},
   "source": [
    "## Delete Endpoint and Configuration"
   ]
  },
  {
   "cell_type": "code",
   "execution_count": null,
   "metadata": {},
   "outputs": [],
   "source": [
    "sm_client = boto3.client(service_name=\"sagemaker\")\n",
    "response = sm_client.describe_endpoint_config(EndpointConfigName=ENDPOINT_NAME)\n",
    "endpoint_config_name = response['EndpointConfigName']\n",
    "try:\n",
    "    sm_client.delete_endpoint(EndpointName=ENDPOINT_NAME)\n",
    "    print(f'Endpoint {ENDPOINT_NAME} deleted successfully !!!')\n",
    "except:\n",
    "    print(f'ERROR, in deleting Endpoint {ENDPOINT_NAME} !!!')\n",
    "try:\n",
    "    sm_client.delete_endpoint_config(EndpointConfigName=endpoint_config_name)\n",
    "    print(f'Endpoint {ENDPOINT_NAME} configuration deleted successfully !!!')\n",
    "except:\n",
    "    print(f'ERROR, in deleting Endpoint {ENDPOINT_NAME} configuration !!!')"
   ]
  },
  {
   "attachments": {},
   "cell_type": "markdown",
   "metadata": {},
   "source": [
    "## Delete Unwated Files and Folders"
   ]
  },
  {
   "cell_type": "code",
   "execution_count": null,
   "metadata": {},
   "outputs": [],
   "source": [
    "root = \"./\"\n",
    "for path, subdirs, files in os.walk(root):\n",
    "    for name in files:\n",
    "        file_path = os.path.join(path, name)\n",
    "        if \"__pycache__\" in file_path or \".ipynb_checkpoints\" in file_path or \".DS_Store\" in file_path:\n",
    "            os.remove(file_path)"
   ]
  }
 ],
 "metadata": {
  "kernelspec": {
   "display_name": "yolo",
   "language": "python",
   "name": "python3"
  },
  "language_info": {
   "codemirror_mode": {
    "name": "ipython",
    "version": 3
   },
   "file_extension": ".py",
   "mimetype": "text/x-python",
   "name": "python",
   "nbconvert_exporter": "python",
   "pygments_lexer": "ipython3",
   "version": "3.10.13"
  }
 },
 "nbformat": 4,
 "nbformat_minor": 2
}
